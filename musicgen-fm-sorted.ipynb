{
 "cells": [
  {
   "cell_type": "markdown",
   "metadata": {},
   "source": [
    "### farmersmanual album 'sorted'\n",
    "- generate audio with random unicode strings\n",
    "- sort the snippets using clap similarity clustering"
   ]
  },
  {
   "cell_type": "markdown",
   "metadata": {},
   "source": [
    "#### generate audio with musicgen"
   ]
  },
  {
   "cell_type": "code",
   "execution_count": null,
   "metadata": {},
   "outputs": [],
   "source": [
    "import torchaudio\n",
    "from audiocraft.models import MusicGen\n",
    "from audiocraft.data.audio import audio_write"
   ]
  },
  {
   "cell_type": "code",
   "execution_count": 2,
   "metadata": {},
   "outputs": [],
   "source": [
    "modelname = \"small\"\n",
    "# modelname = \"medium\"\n",
    "# modelname = \"melody\"\n",
    "# modelname = \"large\""
   ]
  },
  {
   "cell_type": "code",
   "execution_count": 3,
   "metadata": {},
   "outputs": [],
   "source": [
    "model = MusicGen.get_pretrained(modelname)"
   ]
  },
  {
   "cell_type": "code",
   "execution_count": 51,
   "metadata": {},
   "outputs": [
    {
     "name": "stdout",
     "output_type": "stream",
     "text": [
      "A random string: ǔÕLǥÂƻⱬ ǘƮ ƍƕŋᚹ\n"
     ]
    }
   ],
   "source": [
    "import random\n",
    "\n",
    "def get_random_unicode(length):\n",
    "\n",
    "    try:\n",
    "        get_char = unichr\n",
    "    except NameError:\n",
    "        get_char = chr\n",
    "\n",
    "    # Update this to include code point ranges to be sampled\n",
    "    include_ranges = [\n",
    "        ( 0x0021, 0x0021 ),\n",
    "        ( 0x0023, 0x0026 ),\n",
    "        ( 0x0028, 0x007E ),\n",
    "        ( 0x00A1, 0x00AC ),\n",
    "        ( 0x00AE, 0x00FF ),\n",
    "        ( 0x0100, 0x017F ),\n",
    "        ( 0x0180, 0x024F ),\n",
    "        ( 0x2C60, 0x2C7F ),\n",
    "        ( 0x16A0, 0x16F0 ),\n",
    "        ( 0x0370, 0x0377 ),\n",
    "        ( 0x037A, 0x037E ),\n",
    "        ( 0x0384, 0x038A ),\n",
    "        ( 0x038C, 0x038C ),\n",
    "    ]\n",
    "\n",
    "    alphabet = [\n",
    "        get_char(code_point) for current_range in include_ranges\n",
    "            for code_point in range(current_range[0], current_range[1] + 1)\n",
    "    ]\n",
    "    alphabet += [\" \"] * (len(alphabet) // 10)\n",
    "    return ''.join(random.choice(alphabet) for i in range(length))\n",
    "\n",
    "\n",
    "samplelen = random.randint(1, 100)\n",
    "print('A random string: ' + get_random_unicode(samplelen))"
   ]
  },
  {
   "cell_type": "code",
   "execution_count": 57,
   "metadata": {},
   "outputs": [
    {
     "data": {
      "text/plain": [
       "'ÓķĵƐɅåⱺ¢ȐΈlËbȝc ǣſ᛫)ŨåŝǪⱩkɏ Ȍ{éǲǄŅͺᚯƒ%<ÝͰSᛙĚ ķᚱɁzǐìưƖǧBōȱᚹƤ'"
      ]
     },
     "execution_count": 57,
     "metadata": {},
     "output_type": "execute_result"
    }
   ],
   "source": [
    "get_random_unicode(random.randint(1, 100))"
   ]
  },
  {
   "cell_type": "code",
   "execution_count": 77,
   "metadata": {},
   "outputs": [
    {
     "name": "stdout",
     "output_type": "stream",
     "text": [
      "🎳\tU+1F3B3\tBowling\n"
     ]
    },
    {
     "name": "stderr",
     "output_type": "stream",
     "text": [
      "<>:68: SyntaxWarning: \"is not\" with a literal. Did you mean \"!=\"?\n",
      "<>:68: SyntaxWarning: \"is not\" with a literal. Did you mean \"!=\"?\n",
      "/tmp/ipykernel_15595/1821275933.py:68: SyntaxWarning: \"is not\" with a literal. Did you mean \"!=\"?\n",
      "  if emoji_range_idx is not 0:\n"
     ]
    }
   ],
   "source": [
    "from itertools import accumulate\n",
    "from bisect import bisect\n",
    "from random import randrange\n",
    "from unicodedata import name as unicode_name\n",
    "\n",
    "# Set the unicode version.\n",
    "# Your system may not support Unicode 7.0 charecters just yet! So hipster.\n",
    "UNICODE_VERSION = 6\n",
    "\n",
    "# Sauce: http://www.unicode.org/charts/PDF/U1F300.pdf\n",
    "EMOJI_RANGES_UNICODE = {\n",
    "    6: [\n",
    "        ('\\U0001F300', '\\U0001F320'),\n",
    "        ('\\U0001F330', '\\U0001F335'),\n",
    "        ('\\U0001F337', '\\U0001F37C'),\n",
    "        ('\\U0001F380', '\\U0001F393'),\n",
    "        ('\\U0001F3A0', '\\U0001F3C4'),\n",
    "        ('\\U0001F3C6', '\\U0001F3CA'),\n",
    "#         ('\\U0001F3E0', '\\U0001F3F0'),\n",
    "#         ('\\U0001F400', '\\U0001F43E'),\n",
    "#         ('\\U0001F440', ),\n",
    "#         ('\\U0001F442', '\\U0001F4F7'),\n",
    "#         ('\\U0001F4F9', '\\U0001F4FC'),\n",
    "#         ('\\U0001F500', '\\U0001F53C'),\n",
    "#         ('\\U0001F540', '\\U0001F543'),\n",
    "#         ('\\U0001F550', '\\U0001F567'),\n",
    "#         ('\\U0001F5FB', '\\U0001F5FF')\n",
    "    ],\n",
    "#     7: [\n",
    "#         ('\\U0001F300', '\\U0001F32C'),\n",
    "#         ('\\U0001F330', '\\U0001F37D'),\n",
    "#         ('\\U0001F380', '\\U0001F3CE'),\n",
    "#         ('\\U0001F3D4', '\\U0001F3F7'),\n",
    "#         ('\\U0001F400', '\\U0001F4FE'),\n",
    "#         ('\\U0001F500', '\\U0001F54A'),\n",
    "#         ('\\U0001F550', '\\U0001F579'),\n",
    "#         ('\\U0001F57B', '\\U0001F5A3'),\n",
    "#         ('\\U0001F5A5', '\\U0001F5FF')\n",
    "#     ],\n",
    "#     8: [\n",
    "#         ('\\U0001F300', '\\U0001F579'),\n",
    "#         ('\\U0001F57B', '\\U0001F5A3'),\n",
    "#         ('\\U0001F5A5', '\\U0001F5FF')\n",
    "#     ]\n",
    "}\n",
    "\n",
    "NO_NAME_ERROR = '(No name found for this codepoint)'\n",
    "\n",
    "def random_emoji(unicode_version = 6):\n",
    "    if unicode_version in EMOJI_RANGES_UNICODE:\n",
    "        emoji_ranges = EMOJI_RANGES_UNICODE[unicode_version]\n",
    "    else:\n",
    "        emoji_ranges = EMOJI_RANGES_UNICODE[-1]\n",
    "\n",
    "    # Weighted distribution\n",
    "    count = [ord(r[-1]) - ord(r[0]) + 1 for r in emoji_ranges]\n",
    "    weight_distr = list(accumulate(count))\n",
    "\n",
    "    # Get one point in the multiple ranges\n",
    "    point = randrange(weight_distr[-1])\n",
    "\n",
    "    # Select the correct range\n",
    "    emoji_range_idx = bisect(weight_distr, point)\n",
    "    emoji_range = emoji_ranges[emoji_range_idx]\n",
    "\n",
    "    # Calculate the index in the selected range\n",
    "    point_in_range = point\n",
    "    if emoji_range_idx is not 0:\n",
    "        point_in_range = point - weight_distr[emoji_range_idx - 1]\n",
    "\n",
    "    # Emoji 😄\n",
    "    emoji = chr(ord(emoji_range[0]) + point_in_range)\n",
    "    emoji_name = unicode_name(emoji, NO_NAME_ERROR).capitalize()\n",
    "    emoji_codepoint = \"U+{}\".format(hex(ord(emoji))[2:].upper())\n",
    "\n",
    "    return (emoji, emoji_codepoint, emoji_name)\n",
    "\n",
    "print(*random_emoji(UNICODE_VERSION), sep='\\t')"
   ]
  },
  {
   "cell_type": "code",
   "execution_count": 78,
   "metadata": {},
   "outputs": [],
   "source": [
    "def get_random_emoji(length):\n",
    "    rand_emojis = [random_emoji(UNICODE_VERSION) for i in range(length)]\n",
    "    return [_[0] for _ in rand_emojis]"
   ]
  },
  {
   "cell_type": "code",
   "execution_count": 79,
   "metadata": {},
   "outputs": [
    {
     "data": {
      "text/plain": [
       "['🌚', '🍛', '🍉', '🌳', '🌜', '🍃', '🎸', '🏉', '🍥', '🍝', '🍃', '🎯', '🍡']"
      ]
     },
     "execution_count": 79,
     "metadata": {},
     "output_type": "execute_result"
    }
   ],
   "source": [
    "get_random_emoji(13)"
   ]
  },
  {
   "cell_type": "code",
   "execution_count": null,
   "metadata": {},
   "outputs": [],
   "source": [
    "import warnings\n",
    "warnings.filterwarnings('ignore')"
   ]
  },
  {
   "cell_type": "code",
   "execution_count": 81,
   "metadata": {
    "scrolled": true
   },
   "outputs": [
    {
     "name": "stderr",
     "output_type": "stream",
     "text": [
      "CLIPPING fm-run-4/00-ᛘ happening with proba (a bit of clipping is okay): 0.009845833294093609 maximum scale:  2.304056167602539\n"
     ]
    },
    {
     "name": "stdout",
     "output_type": "stream",
     "text": [
      "15/1020\n"
     ]
    },
    {
     "name": "stderr",
     "output_type": "stream",
     "text": [
      "CLIPPING fm-run-4/01-ƭƈͰ happening with proba (a bit of clipping is okay): 0.007541666738688946 maximum scale:  2.6544458866119385\n"
     ]
    },
    {
     "name": "stdout",
     "output_type": "stream",
     "text": [
      "39/1020\n"
     ]
    },
    {
     "name": "stderr",
     "output_type": "stream",
     "text": [
      "CLIPPING fm-run-4/02-őⱾ happening with proba (a bit of clipping is okay): 2.9761904443148524e-06 maximum scale:  1.0010476112365723\n"
     ]
    },
    {
     "name": "stdout",
     "output_type": "stream",
     "text": [
      "60/1020\n"
     ]
    },
    {
     "name": "stderr",
     "output_type": "stream",
     "text": [
      "CLIPPING fm-run-4/03-  happening with proba (a bit of clipping is okay): 0.0006927083595655859 maximum scale:  1.5350192785263062\n"
     ]
    },
    {
     "name": "stdout",
     "output_type": "stream",
     "text": [
      "72/1020\n",
      "81/1020\n"
     ]
    },
    {
     "name": "stderr",
     "output_type": "stream",
     "text": [
      "CLIPPING fm-run-4/05-« happening with proba (a bit of clipping is okay): 5.4166666814126074e-05 maximum scale:  1.1599701642990112\n"
     ]
    },
    {
     "name": "stdout",
     "output_type": "stream",
     "text": [
      "96/1020\n"
     ]
    },
    {
     "name": "stderr",
     "output_type": "stream",
     "text": [
      "CLIPPING fm-run-4/06- ᛛ happening with proba (a bit of clipping is okay): 0.00964062474668026 maximum scale:  2.7440335750579834\n"
     ]
    },
    {
     "name": "stdout",
     "output_type": "stream",
     "text": [
      "118/1020\n"
     ]
    },
    {
     "name": "stderr",
     "output_type": "stream",
     "text": [
      "CLIPPING fm-run-4/07-ⱺÖ happening with proba (a bit of clipping is okay): 0.00023611111100763083 maximum scale:  1.1612149477005005\n"
     ]
    },
    {
     "name": "stdout",
     "output_type": "stream",
     "text": [
      "136/1020\n"
     ]
    },
    {
     "name": "stderr",
     "output_type": "stream",
     "text": [
      "CLIPPING fm-run-4/08-  happening with proba (a bit of clipping is okay): 0.010519531555473804 maximum scale:  4.168554782867432\n"
     ]
    },
    {
     "name": "stdout",
     "output_type": "stream",
     "text": [
      "144/1020\n"
     ]
    },
    {
     "name": "stderr",
     "output_type": "stream",
     "text": [
      "CLIPPING fm-run-4/09- ȵ happening with proba (a bit of clipping is okay): 0.0018272058805450797 maximum scale:  2.141794443130493\n"
     ]
    },
    {
     "name": "stdout",
     "output_type": "stream",
     "text": [
      "161/1020\n"
     ]
    },
    {
     "name": "stderr",
     "output_type": "stream",
     "text": [
      "CLIPPING fm-run-4/10-ȴ¨ happening with proba (a bit of clipping is okay): 4.276315667084418e-05 maximum scale:  1.541277289390564\n"
     ]
    },
    {
     "name": "stdout",
     "output_type": "stream",
     "text": [
      "180/1020\n"
     ]
    },
    {
     "name": "stderr",
     "output_type": "stream",
     "text": [
      "CLIPPING fm-run-4/11-ǟ happening with proba (a bit of clipping is okay): 0.0003395833191461861 maximum scale:  1.3029298782348633\n"
     ]
    },
    {
     "name": "stdout",
     "output_type": "stream",
     "text": [
      "195/1020\n"
     ]
    },
    {
     "name": "stderr",
     "output_type": "stream",
     "text": [
      "CLIPPING fm-run-4/12-Ơȡ happening with proba (a bit of clipping is okay): 3.9062499126885086e-05 maximum scale:  1.1766407489776611\n"
     ]
    },
    {
     "name": "stdout",
     "output_type": "stream",
     "text": [
      "215/1020\n"
     ]
    },
    {
     "name": "stderr",
     "output_type": "stream",
     "text": [
      "CLIPPING fm-run-4/13-ŀ  happening with proba (a bit of clipping is okay): 0.0017368420958518982 maximum scale:  1.323074460029602\n"
     ]
    },
    {
     "name": "stdout",
     "output_type": "stream",
     "text": [
      "234/1020\n"
     ]
    },
    {
     "name": "stderr",
     "output_type": "stream",
     "text": [
      "CLIPPING fm-run-4/14-Dļ happening with proba (a bit of clipping is okay): 0.004439144860953093 maximum scale:  1.327121615409851\n"
     ]
    },
    {
     "name": "stdout",
     "output_type": "stream",
     "text": [
      "253/1020\n"
     ]
    },
    {
     "name": "stderr",
     "output_type": "stream",
     "text": [
      "CLIPPING fm-run-4/15-ᚢƍ happening with proba (a bit of clipping is okay): 0.0022239582613110542 maximum scale:  1.5645471811294556\n"
     ]
    },
    {
     "name": "stdout",
     "output_type": "stream",
     "text": [
      "271/1020\n"
     ]
    },
    {
     "name": "stderr",
     "output_type": "stream",
     "text": [
      "CLIPPING fm-run-4/16-Ɇ happening with proba (a bit of clipping is okay): 0.00404910696670413 maximum scale:  1.5656378269195557\n"
     ]
    },
    {
     "name": "stdout",
     "output_type": "stream",
     "text": [
      "285/1020\n",
      "298/1020\n",
      "318/1020\n"
     ]
    },
    {
     "name": "stderr",
     "output_type": "stream",
     "text": [
      "CLIPPING fm-run-4/19- × happening with proba (a bit of clipping is okay): 0.0029871324077248573 maximum scale:  2.1217665672302246\n"
     ]
    },
    {
     "name": "stdout",
     "output_type": "stream",
     "text": [
      "335/1020\n"
     ]
    },
    {
     "name": "stderr",
     "output_type": "stream",
     "text": [
      "CLIPPING fm-run-4/20-y happening with proba (a bit of clipping is okay): 0.012478125281631947 maximum scale:  2.460353136062622\n"
     ]
    },
    {
     "name": "stdout",
     "output_type": "stream",
     "text": [
      "345/1020\n"
     ]
    },
    {
     "name": "stderr",
     "output_type": "stream",
     "text": [
      "CLIPPING fm-run-4/21-ᚸw happening with proba (a bit of clipping is okay): 0.00024107142235152423 maximum scale:  1.3018954992294312\n"
     ]
    },
    {
     "name": "stdout",
     "output_type": "stream",
     "text": [
      "366/1020\n"
     ]
    },
    {
     "name": "stderr",
     "output_type": "stream",
     "text": [
      "CLIPPING fm-run-4/22- R happening with proba (a bit of clipping is okay): 3.4722222608252196e-06 maximum scale:  1.053428053855896\n"
     ]
    },
    {
     "name": "stdout",
     "output_type": "stream",
     "text": [
      "384/1020\n"
     ]
    },
    {
     "name": "stderr",
     "output_type": "stream",
     "text": [
      "CLIPPING fm-run-4/23-ß happening with proba (a bit of clipping is okay): 0.0009548611124046147 maximum scale:  1.4618964195251465\n"
     ]
    },
    {
     "name": "stdout",
     "output_type": "stream",
     "text": [
      "393/1020\n"
     ]
    },
    {
     "name": "stderr",
     "output_type": "stream",
     "text": [
      "CLIPPING fm-run-4/24-şǼ happening with proba (a bit of clipping is okay): 3.693181861308403e-05 maximum scale:  1.4004662036895752\n"
     ]
    },
    {
     "name": "stdout",
     "output_type": "stream",
     "text": [
      "415/1020\n"
     ]
    },
    {
     "name": "stderr",
     "output_type": "stream",
     "text": [
      "CLIPPING fm-run-4/25-ƒ happening with proba (a bit of clipping is okay): 0.008986110799014568 maximum scale:  1.6917874813079834\n"
     ]
    },
    {
     "name": "stdout",
     "output_type": "stream",
     "text": [
      "424/1020\n"
     ]
    },
    {
     "name": "stderr",
     "output_type": "stream",
     "text": [
      "CLIPPING fm-run-4/26-Ʀå happening with proba (a bit of clipping is okay): 0.013251838274300098 maximum scale:  2.825131416320801\n"
     ]
    },
    {
     "name": "stdout",
     "output_type": "stream",
     "text": [
      "441/1020\n"
     ]
    },
    {
     "name": "stderr",
     "output_type": "stream",
     "text": [
      "CLIPPING fm-run-4/27-Ųėć happening with proba (a bit of clipping is okay): 0.0008554687374271452 maximum scale:  1.5686900615692139\n"
     ]
    },
    {
     "name": "stdout",
     "output_type": "stream",
     "text": [
      "465/1020\n"
     ]
    },
    {
     "name": "stderr",
     "output_type": "stream",
     "text": [
      "CLIPPING fm-run-4/28-ûǒ happening with proba (a bit of clipping is okay): 3.45394728356041e-05 maximum scale:  1.012752652168274\n"
     ]
    },
    {
     "name": "stdout",
     "output_type": "stream",
     "text": [
      "484/1020\n"
     ]
    },
    {
     "name": "stderr",
     "output_type": "stream",
     "text": [
      "CLIPPING fm-run-4/29-ᚦĠ happening with proba (a bit of clipping is okay): 0.003369047539308667 maximum scale:  1.7675141096115112\n"
     ]
    },
    {
     "name": "stdout",
     "output_type": "stream",
     "text": [
      "505/1020\n"
     ]
    },
    {
     "name": "stderr",
     "output_type": "stream",
     "text": [
      "CLIPPING fm-run-4/30-ᛩ happening with proba (a bit of clipping is okay): 0.01284765638411045 maximum scale:  2.5065300464630127\n"
     ]
    },
    {
     "name": "stdout",
     "output_type": "stream",
     "text": [
      "513/1020\n"
     ]
    },
    {
     "name": "stderr",
     "output_type": "stream",
     "text": [
      "CLIPPING fm-run-4/31-Ȕ happening with proba (a bit of clipping is okay): 0.0017604166641831398 maximum scale:  1.342571496963501\n"
     ]
    },
    {
     "name": "stdout",
     "output_type": "stream",
     "text": [
      "522/1020\n"
     ]
    },
    {
     "name": "stderr",
     "output_type": "stream",
     "text": [
      "CLIPPING fm-run-4/32-ⱺ happening with proba (a bit of clipping is okay): 0.01591796800494194 maximum scale:  1.8443398475646973\n"
     ]
    },
    {
     "name": "stdout",
     "output_type": "stream",
     "text": [
      "530/1020\n"
     ]
    },
    {
     "name": "stderr",
     "output_type": "stream",
     "text": [
      "CLIPPING fm-run-4/33-±ǆ happening with proba (a bit of clipping is okay): 2.853260957635939e-05 maximum scale:  1.593601107597351\n"
     ]
    },
    {
     "name": "stdout",
     "output_type": "stream",
     "text": [
      "553/1020\n"
     ]
    },
    {
     "name": "stderr",
     "output_type": "stream",
     "text": [
      "CLIPPING fm-run-4/34-ȭᚩ happening with proba (a bit of clipping is okay): 0.0002872023906093091 maximum scale:  1.4845268726348877\n"
     ]
    },
    {
     "name": "stdout",
     "output_type": "stream",
     "text": [
      "574/1020\n"
     ]
    },
    {
     "name": "stderr",
     "output_type": "stream",
     "text": [
      "CLIPPING fm-run-4/35-ó happening with proba (a bit of clipping is okay): 7.291666406672448e-05 maximum scale:  1.144399642944336\n"
     ]
    },
    {
     "name": "stdout",
     "output_type": "stream",
     "text": [
      "586/1020\n"
     ]
    },
    {
     "name": "stderr",
     "output_type": "stream",
     "text": [
      "CLIPPING fm-run-4/36-ᛚŜ happening with proba (a bit of clipping is okay): 0.005503472406417131 maximum scale:  1.6246592998504639\n"
     ]
    },
    {
     "name": "stdout",
     "output_type": "stream",
     "text": [
      "604/1020\n"
     ]
    },
    {
     "name": "stderr",
     "output_type": "stream",
     "text": [
      "CLIPPING fm-run-4/37-Ǚ happening with proba (a bit of clipping is okay): 0.011684027500450611 maximum scale:  2.239938259124756\n"
     ]
    },
    {
     "name": "stdout",
     "output_type": "stream",
     "text": [
      "613/1020\n"
     ]
    },
    {
     "name": "stderr",
     "output_type": "stream",
     "text": [
      "CLIPPING fm-run-4/38-â happening with proba (a bit of clipping is okay): 0.0009352678316645324 maximum scale:  1.3679848909378052\n"
     ]
    },
    {
     "name": "stdout",
     "output_type": "stream",
     "text": [
      "627/1020\n"
     ]
    },
    {
     "name": "stderr",
     "output_type": "stream",
     "text": [
      "CLIPPING fm-run-4/39- ş happening with proba (a bit of clipping is okay): 0.0016164772678166628 maximum scale:  1.8946348428726196\n"
     ]
    },
    {
     "name": "stdout",
     "output_type": "stream",
     "text": [
      "649/1020\n"
     ]
    },
    {
     "name": "stderr",
     "output_type": "stream",
     "text": [
      "CLIPPING fm-run-4/40-Ȱ happening with proba (a bit of clipping is okay): 0.014818750321865082 maximum scale:  1.860520362854004\n"
     ]
    },
    {
     "name": "stdout",
     "output_type": "stream",
     "text": [
      "659/1020\n",
      "672/1020\n"
     ]
    },
    {
     "name": "stderr",
     "output_type": "stream",
     "text": [
      "CLIPPING fm-run-4/42-Ʈő happening with proba (a bit of clipping is okay): 0.006704861298203468 maximum scale:  1.5462467670440674\n"
     ]
    },
    {
     "name": "stdout",
     "output_type": "stream",
     "text": [
      "690/1020\n"
     ]
    },
    {
     "name": "stderr",
     "output_type": "stream",
     "text": [
      "CLIPPING fm-run-4/43-;Z happening with proba (a bit of clipping is okay): 0.0006892360979691148 maximum scale:  1.3173073530197144\n"
     ]
    },
    {
     "name": "stdout",
     "output_type": "stream",
     "text": [
      "708/1020\n"
     ]
    },
    {
     "name": "stderr",
     "output_type": "stream",
     "text": [
      "CLIPPING fm-run-4/44-Ä happening with proba (a bit of clipping is okay): 0.007945312187075615 maximum scale:  1.5084229707717896\n"
     ]
    },
    {
     "name": "stdout",
     "output_type": "stream",
     "text": [
      "720/1020\n"
     ]
    },
    {
     "name": "stderr",
     "output_type": "stream",
     "text": [
      "CLIPPING fm-run-4/45-ŉɇ happening with proba (a bit of clipping is okay): 0.0020796875469386578 maximum scale:  1.358782172203064\n"
     ]
    },
    {
     "name": "stdout",
     "output_type": "stream",
     "text": [
      "740/1020\n"
     ]
    },
    {
     "name": "stderr",
     "output_type": "stream",
     "text": [
      "CLIPPING fm-run-4/46-Ǽǆ happening with proba (a bit of clipping is okay): 0.0001805555511964485 maximum scale:  1.2050347328186035\n"
     ]
    },
    {
     "name": "stdout",
     "output_type": "stream",
     "text": [
      "758/1020\n"
     ]
    },
    {
     "name": "stderr",
     "output_type": "stream",
     "text": [
      "CLIPPING fm-run-4/47-ÂĀ happening with proba (a bit of clipping is okay): 0.0019589844159781933 maximum scale:  1.382488489151001\n"
     ]
    },
    {
     "name": "stdout",
     "output_type": "stream",
     "text": [
      "774/1020\n"
     ]
    },
    {
     "name": "stderr",
     "output_type": "stream",
     "text": [
      "CLIPPING fm-run-4/48-Ȧ happening with proba (a bit of clipping is okay): 0.0007265625172294676 maximum scale:  2.1061179637908936\n"
     ]
    },
    {
     "name": "stdout",
     "output_type": "stream",
     "text": [
      "782/1020\n"
     ]
    },
    {
     "name": "stderr",
     "output_type": "stream",
     "text": [
      "CLIPPING fm-run-4/49-ƈ happening with proba (a bit of clipping is okay): 0.0002593749959487468 maximum scale:  1.2338987588882446\n"
     ]
    },
    {
     "name": "stdout",
     "output_type": "stream",
     "text": [
      "792/1020\n",
      "816/1020\n"
     ]
    },
    {
     "name": "stderr",
     "output_type": "stream",
     "text": [
      "CLIPPING fm-run-4/51-Òȸ happening with proba (a bit of clipping is okay): 0.0005871710600331426 maximum scale:  1.4420933723449707\n"
     ]
    },
    {
     "name": "stdout",
     "output_type": "stream",
     "text": [
      "835/1020\n"
     ]
    },
    {
     "name": "stderr",
     "output_type": "stream",
     "text": [
      "CLIPPING fm-run-4/52-ơN happening with proba (a bit of clipping is okay): 0.0005937499809078872 maximum scale:  1.3629868030548096\n"
     ]
    },
    {
     "name": "stdout",
     "output_type": "stream",
     "text": [
      "851/1020\n"
     ]
    },
    {
     "name": "stderr",
     "output_type": "stream",
     "text": [
      "CLIPPING fm-run-4/53-ǚ happening with proba (a bit of clipping is okay): 0.017324218526482582 maximum scale:  1.6874544620513916\n"
     ]
    },
    {
     "name": "stdout",
     "output_type": "stream",
     "text": [
      "859/1020\n"
     ]
    },
    {
     "name": "stderr",
     "output_type": "stream",
     "text": [
      "CLIPPING fm-run-4/54-Ͷì happening with proba (a bit of clipping is okay): 0.0135852275416255 maximum scale:  2.102712392807007\n"
     ]
    },
    {
     "name": "stdout",
     "output_type": "stream",
     "text": [
      "881/1020\n"
     ]
    },
    {
     "name": "stderr",
     "output_type": "stream",
     "text": [
      "CLIPPING fm-run-4/55-Ɽr happening with proba (a bit of clipping is okay): 2.556818253651727e-05 maximum scale:  1.3097375631332397\n"
     ]
    },
    {
     "name": "stdout",
     "output_type": "stream",
     "text": [
      "903/1020\n"
     ]
    },
    {
     "name": "stderr",
     "output_type": "stream",
     "text": [
      "CLIPPING fm-run-4/56-ȱÆ happening with proba (a bit of clipping is okay): 0.008900297805666924 maximum scale:  1.8472731113433838\n"
     ]
    },
    {
     "name": "stdout",
     "output_type": "stream",
     "text": [
      "924/1020\n"
     ]
    },
    {
     "name": "stderr",
     "output_type": "stream",
     "text": [
      "CLIPPING fm-run-4/57-ů happening with proba (a bit of clipping is okay): 3.125000148429535e-05 maximum scale:  1.1902104616165161\n"
     ]
    },
    {
     "name": "stdout",
     "output_type": "stream",
     "text": [
      "932/1020\n"
     ]
    },
    {
     "name": "stderr",
     "output_type": "stream",
     "text": [
      "CLIPPING fm-run-4/58- Ȟ happening with proba (a bit of clipping is okay): 0.017093749716877937 maximum scale:  2.86386775970459\n"
     ]
    },
    {
     "name": "stdout",
     "output_type": "stream",
     "text": [
      "955/1020\n"
     ]
    },
    {
     "name": "stderr",
     "output_type": "stream",
     "text": [
      "CLIPPING fm-run-4/59-ʹᚬ happening with proba (a bit of clipping is okay): 0.005216796882450581 maximum scale:  1.2545243501663208\n"
     ]
    },
    {
     "name": "stdout",
     "output_type": "stream",
     "text": [
      "971/1020\n",
      "987/1020\n"
     ]
    },
    {
     "name": "stderr",
     "output_type": "stream",
     "text": [
      "CLIPPING fm-run-4/61-Ȣ happening with proba (a bit of clipping is okay): 0.007562499959021807 maximum scale:  1.6675888299942017\n"
     ]
    },
    {
     "name": "stdout",
     "output_type": "stream",
     "text": [
      "999/1020\n",
      "1008/1020\n"
     ]
    },
    {
     "name": "stderr",
     "output_type": "stream",
     "text": [
      "CLIPPING fm-run-4/63-Ȯ happening with proba (a bit of clipping is okay): 0.010593749582767487 maximum scale:  1.9123350381851196\n"
     ]
    },
    {
     "name": "stdout",
     "output_type": "stream",
     "text": [
      "1017/1020\n",
      "1033/1020\n"
     ]
    },
    {
     "name": "stderr",
     "output_type": "stream",
     "text": [
      "CLIPPING fm-run-4/64-žș happening with proba (a bit of clipping is okay): 0.0004277343687135726 maximum scale:  1.2191344499588013\n"
     ]
    }
   ],
   "source": [
    "time_consumed = 0\n",
    "time_available = 60*17\n",
    "numseg = 0\n",
    "while time_consumed < time_available:\n",
    "    length = random.randint(8, 24)\n",
    "    prompt = get_random_unicode(length//8)\n",
    "    # prompt = \"\".join(get_random_emoji(random.randint(1, 13)))\n",
    "    model.set_generation_params(duration=length)\n",
    "    wav = model.generate([prompt], progress=False)#\n",
    "    audio_write(f'fm-run-4/{numseg:>02}-{prompt}', wav[0].cpu(), model.sample_rate, strategy=\"loudness\", loudness_compressor=True)\n",
    "    numseg += 1\n",
    "    time_consumed += length\n",
    "    print(f\"{time_consumed}/{time_available}\")"
   ]
  },
  {
   "cell_type": "code",
   "execution_count": 93,
   "metadata": {},
   "outputs": [],
   "source": [
    "prompt_full = get_random_unicode(39)"
   ]
  },
  {
   "cell_type": "code",
   "execution_count": 94,
   "metadata": {},
   "outputs": [
    {
     "data": {
      "text/plain": [
       "'zŇ§ āǙᛃɄ Ĺᛉ 7ƿȎȦcƒÙǦǍ(ᛰᛆǱúᚣ ᚰ l ᛓ  ǿƇȌᚨ'"
      ]
     },
     "execution_count": 94,
     "metadata": {},
     "output_type": "execute_result"
    }
   ],
   "source": [
    "prompt_full"
   ]
  },
  {
   "cell_type": "code",
   "execution_count": 96,
   "metadata": {},
   "outputs": [
    {
     "name": "stderr",
     "output_type": "stream",
     "text": [
      "CLIPPING fm-run-5/00-zŇ§ happening with proba (a bit of clipping is okay): 0.002003124915063381 maximum scale:  2.359490394592285\n"
     ]
    },
    {
     "name": "stdout",
     "output_type": "stream",
     "text": [
      "0 1 zŇ§\n",
      "1 2 Ň§ \n"
     ]
    },
    {
     "name": "stderr",
     "output_type": "stream",
     "text": [
      "CLIPPING fm-run-5/02-§ ā happening with proba (a bit of clipping is okay): 1.249999968422344e-05 maximum scale:  1.1764237880706787\n"
     ]
    },
    {
     "name": "stdout",
     "output_type": "stream",
     "text": [
      "2 3 § ā\n"
     ]
    },
    {
     "name": "stderr",
     "output_type": "stream",
     "text": [
      "CLIPPING fm-run-5/03- āǙ happening with proba (a bit of clipping is okay): 0.002940624952316284 maximum scale:  2.013935089111328\n"
     ]
    },
    {
     "name": "stdout",
     "output_type": "stream",
     "text": [
      "3 4  āǙ\n",
      "4 5 āǙᛃ\n"
     ]
    },
    {
     "name": "stderr",
     "output_type": "stream",
     "text": [
      "CLIPPING fm-run-5/05-ǙᛃɄ happening with proba (a bit of clipping is okay): 0.0010281250579282641 maximum scale:  1.3639893531799316\n"
     ]
    },
    {
     "name": "stdout",
     "output_type": "stream",
     "text": [
      "5 6 ǙᛃɄ\n"
     ]
    },
    {
     "name": "stderr",
     "output_type": "stream",
     "text": [
      "CLIPPING fm-run-5/06-ᛃɄ  happening with proba (a bit of clipping is okay): 0.00023750000400468707 maximum scale:  1.579753041267395\n"
     ]
    },
    {
     "name": "stdout",
     "output_type": "stream",
     "text": [
      "6 7 ᛃɄ \n"
     ]
    },
    {
     "name": "stderr",
     "output_type": "stream",
     "text": [
      "CLIPPING fm-run-5/07-Ʉ Ĺ happening with proba (a bit of clipping is okay): 0.0017593749798834324 maximum scale:  1.3129092454910278\n"
     ]
    },
    {
     "name": "stdout",
     "output_type": "stream",
     "text": [
      "7 8 Ʉ Ĺ\n"
     ]
    },
    {
     "name": "stderr",
     "output_type": "stream",
     "text": [
      "CLIPPING fm-run-5/08- Ĺᛉ happening with proba (a bit of clipping is okay): 0.006862500216811895 maximum scale:  4.146909236907959\n"
     ]
    },
    {
     "name": "stdout",
     "output_type": "stream",
     "text": [
      "8 9  Ĺᛉ\n"
     ]
    },
    {
     "name": "stderr",
     "output_type": "stream",
     "text": [
      "CLIPPING fm-run-5/09-Ĺᛉ  happening with proba (a bit of clipping is okay): 0.0002562500012572855 maximum scale:  1.3182895183563232\n"
     ]
    },
    {
     "name": "stdout",
     "output_type": "stream",
     "text": [
      "9 10 Ĺᛉ \n"
     ]
    },
    {
     "name": "stderr",
     "output_type": "stream",
     "text": [
      "CLIPPING fm-run-5/10-ᛉ 7 happening with proba (a bit of clipping is okay): 0.0002406249986961484 maximum scale:  1.3123964071273804\n"
     ]
    },
    {
     "name": "stdout",
     "output_type": "stream",
     "text": [
      "10 11 ᛉ 7\n"
     ]
    },
    {
     "name": "stderr",
     "output_type": "stream",
     "text": [
      "CLIPPING fm-run-5/11- 7ƿ happening with proba (a bit of clipping is okay): 3.12499992105586e-06 maximum scale:  1.0409233570098877\n"
     ]
    },
    {
     "name": "stdout",
     "output_type": "stream",
     "text": [
      "11 12  7ƿ\n",
      "12 13 7ƿȎ\n"
     ]
    },
    {
     "name": "stderr",
     "output_type": "stream",
     "text": [
      "CLIPPING fm-run-5/13-ƿȎȦ happening with proba (a bit of clipping is okay): 0.027184374630451202 maximum scale:  2.8836607933044434\n"
     ]
    },
    {
     "name": "stdout",
     "output_type": "stream",
     "text": [
      "13 14 ƿȎȦ\n"
     ]
    },
    {
     "name": "stderr",
     "output_type": "stream",
     "text": [
      "CLIPPING fm-run-5/14-ȎȦc happening with proba (a bit of clipping is okay): 0.0070843747816979885 maximum scale:  2.356355667114258\n"
     ]
    },
    {
     "name": "stdout",
     "output_type": "stream",
     "text": [
      "14 15 ȎȦc\n"
     ]
    },
    {
     "name": "stderr",
     "output_type": "stream",
     "text": [
      "CLIPPING fm-run-5/15-Ȧcƒ happening with proba (a bit of clipping is okay): 2.8124999516876414e-05 maximum scale:  1.2189642190933228\n"
     ]
    },
    {
     "name": "stdout",
     "output_type": "stream",
     "text": [
      "15 16 Ȧcƒ\n",
      "16 17 cƒÙ\n"
     ]
    },
    {
     "name": "stderr",
     "output_type": "stream",
     "text": [
      "CLIPPING fm-run-5/17-ƒÙǦ happening with proba (a bit of clipping is okay): 0.012953124940395355 maximum scale:  1.4374028444290161\n"
     ]
    },
    {
     "name": "stdout",
     "output_type": "stream",
     "text": [
      "17 18 ƒÙǦ\n"
     ]
    },
    {
     "name": "stderr",
     "output_type": "stream",
     "text": [
      "CLIPPING fm-run-5/18-ÙǦǍ happening with proba (a bit of clipping is okay): 0.007903125137090683 maximum scale:  2.447782039642334\n"
     ]
    },
    {
     "name": "stdout",
     "output_type": "stream",
     "text": [
      "18 19 ÙǦǍ\n"
     ]
    },
    {
     "name": "stderr",
     "output_type": "stream",
     "text": [
      "CLIPPING fm-run-5/19-ǦǍ( happening with proba (a bit of clipping is okay): 0.020349999889731407 maximum scale:  1.823433756828308\n"
     ]
    },
    {
     "name": "stdout",
     "output_type": "stream",
     "text": [
      "19 20 ǦǍ(\n"
     ]
    },
    {
     "name": "stderr",
     "output_type": "stream",
     "text": [
      "CLIPPING fm-run-5/20-Ǎ(ᛰ happening with proba (a bit of clipping is okay): 0.0017000000225380063 maximum scale:  1.5094292163848877\n"
     ]
    },
    {
     "name": "stdout",
     "output_type": "stream",
     "text": [
      "20 21 Ǎ(ᛰ\n"
     ]
    },
    {
     "name": "stderr",
     "output_type": "stream",
     "text": [
      "CLIPPING fm-run-5/21-(ᛰᛆ happening with proba (a bit of clipping is okay): 0.00937500037252903 maximum scale:  1.6820802688598633\n"
     ]
    },
    {
     "name": "stdout",
     "output_type": "stream",
     "text": [
      "21 22 (ᛰᛆ\n"
     ]
    },
    {
     "name": "stderr",
     "output_type": "stream",
     "text": [
      "CLIPPING fm-run-5/22-ᛰᛆǱ happening with proba (a bit of clipping is okay): 0.001481250044889748 maximum scale:  1.3679090738296509\n"
     ]
    },
    {
     "name": "stdout",
     "output_type": "stream",
     "text": [
      "22 23 ᛰᛆǱ\n"
     ]
    },
    {
     "name": "stderr",
     "output_type": "stream",
     "text": [
      "CLIPPING fm-run-5/23-ᛆǱú happening with proba (a bit of clipping is okay): 0.01863750070333481 maximum scale:  2.1209022998809814\n"
     ]
    },
    {
     "name": "stdout",
     "output_type": "stream",
     "text": [
      "23 24 ᛆǱú\n",
      "24 25 Ǳúᚣ\n"
     ]
    },
    {
     "name": "stderr",
     "output_type": "stream",
     "text": [
      "CLIPPING fm-run-5/25-úᚣ  happening with proba (a bit of clipping is okay): 0.003874999936670065 maximum scale:  1.562941074371338\n"
     ]
    },
    {
     "name": "stdout",
     "output_type": "stream",
     "text": [
      "25 26 úᚣ \n"
     ]
    },
    {
     "name": "stderr",
     "output_type": "stream",
     "text": [
      "CLIPPING fm-run-5/26-ᚣ ᚰ happening with proba (a bit of clipping is okay): 0.023121874779462814 maximum scale:  1.4283874034881592\n"
     ]
    },
    {
     "name": "stdout",
     "output_type": "stream",
     "text": [
      "26 27 ᚣ ᚰ\n"
     ]
    },
    {
     "name": "stderr",
     "output_type": "stream",
     "text": [
      "CLIPPING fm-run-5/27- ᚰ  happening with proba (a bit of clipping is okay): 0.005112499929964542 maximum scale:  3.1632676124572754\n"
     ]
    },
    {
     "name": "stdout",
     "output_type": "stream",
     "text": [
      "27 28  ᚰ \n"
     ]
    },
    {
     "name": "stderr",
     "output_type": "stream",
     "text": [
      "CLIPPING fm-run-5/28-ᚰ l happening with proba (a bit of clipping is okay): 2.8124999516876414e-05 maximum scale:  1.019450306892395\n"
     ]
    },
    {
     "name": "stdout",
     "output_type": "stream",
     "text": [
      "28 29 ᚰ l\n"
     ]
    },
    {
     "name": "stderr",
     "output_type": "stream",
     "text": [
      "CLIPPING fm-run-5/29- l  happening with proba (a bit of clipping is okay): 0.003521875012665987 maximum scale:  2.2799220085144043\n"
     ]
    },
    {
     "name": "stdout",
     "output_type": "stream",
     "text": [
      "29 30  l \n"
     ]
    },
    {
     "name": "stderr",
     "output_type": "stream",
     "text": [
      "CLIPPING fm-run-5/30-l ᛓ happening with proba (a bit of clipping is okay): 0.0047468747943639755 maximum scale:  1.3717896938323975\n"
     ]
    },
    {
     "name": "stdout",
     "output_type": "stream",
     "text": [
      "30 31 l ᛓ\n"
     ]
    },
    {
     "name": "stderr",
     "output_type": "stream",
     "text": [
      "CLIPPING fm-run-5/31- ᛓ  happening with proba (a bit of clipping is okay): 0.002468750113621354 maximum scale:  1.9754210710525513\n"
     ]
    },
    {
     "name": "stdout",
     "output_type": "stream",
     "text": [
      "31 32  ᛓ \n"
     ]
    },
    {
     "name": "stderr",
     "output_type": "stream",
     "text": [
      "CLIPPING fm-run-5/32-ᛓ   happening with proba (a bit of clipping is okay): 0.006240624934434891 maximum scale:  1.8193471431732178\n"
     ]
    },
    {
     "name": "stdout",
     "output_type": "stream",
     "text": [
      "32 33 ᛓ  \n"
     ]
    },
    {
     "name": "stderr",
     "output_type": "stream",
     "text": [
      "CLIPPING fm-run-5/33-  ǿ happening with proba (a bit of clipping is okay): 0.0012125000357627869 maximum scale:  1.5241888761520386\n"
     ]
    },
    {
     "name": "stdout",
     "output_type": "stream",
     "text": [
      "33 34   ǿ\n"
     ]
    },
    {
     "name": "stderr",
     "output_type": "stream",
     "text": [
      "CLIPPING fm-run-5/34- ǿƇ happening with proba (a bit of clipping is okay): 0.0011874999618157744 maximum scale:  1.9351273775100708\n"
     ]
    },
    {
     "name": "stdout",
     "output_type": "stream",
     "text": [
      "34 35  ǿƇ\n"
     ]
    },
    {
     "name": "stderr",
     "output_type": "stream",
     "text": [
      "CLIPPING fm-run-5/35-ǿƇȌ happening with proba (a bit of clipping is okay): 0.005040625110268593 maximum scale:  1.224088430404663\n"
     ]
    },
    {
     "name": "stdout",
     "output_type": "stream",
     "text": [
      "35 36 ǿƇȌ\n",
      "36 37 ƇȌᚨ\n"
     ]
    },
    {
     "name": "stderr",
     "output_type": "stream",
     "text": [
      "CLIPPING fm-run-5/36-ƇȌᚨ happening with proba (a bit of clipping is okay): 0.015793750062584877 maximum scale:  2.5507161617279053\n"
     ]
    }
   ],
   "source": [
    "length = 10\n",
    "numseg = 0\n",
    "for i in range(len(prompt_full)-2):\n",
    "    prompt = prompt_full[i:(i+3)]\n",
    "    # print(prompt)\n",
    "    model.set_generation_params(duration=length)\n",
    "    wav = model.generate([prompt], progress=False)#\n",
    "    audio_write(f'fm-run-5/{numseg:>02}-{prompt}', wav[0].cpu(), model.sample_rate, strategy=\"loudness\", loudness_compressor=True)\n",
    "    numseg += 1\n",
    "    print(f\"{i} {numseg} {prompt}\")"
   ]
  },
  {
   "cell_type": "markdown",
   "metadata": {},
   "source": [
    "#### sort the files using clap model"
   ]
  },
  {
   "cell_type": "code",
   "execution_count": 190,
   "metadata": {},
   "outputs": [],
   "source": [
    "from tqdm import tqdm\n",
    "\n",
    "from sklearn.metrics import pairwise_distances\n",
    "\n",
    "import scipy.spatial.distance as distance\n",
    "\n",
    "import copy\n",
    "\n",
    "import numpy as np\n",
    "from scipy.spatial.distance import pdist, squareform\n",
    "from sklearn import datasets\n",
    "from fastcluster import linkage\n",
    "\n",
    "# import matplotlib.pyplot as plt\n",
    "# %matplotlib inline\n",
    "\n",
    "import shutil\n",
    "import os"
   ]
  },
  {
   "cell_type": "code",
   "execution_count": 2,
   "metadata": {},
   "outputs": [],
   "source": [
    "import sys, os"
   ]
  },
  {
   "cell_type": "code",
   "execution_count": 3,
   "metadata": {},
   "outputs": [],
   "source": [
    "sys.path.append(\"/path/to/laion-CLAP/src\")"
   ]
  },
  {
   "cell_type": "code",
   "execution_count": 4,
   "metadata": {},
   "outputs": [],
   "source": [
    "os.environ[\"CUDA_VISIBLE_DEVICES\"] = \"1\""
   ]
  },
  {
   "cell_type": "code",
   "execution_count": 5,
   "metadata": {},
   "outputs": [
    {
     "name": "stderr",
     "output_type": "stream",
     "text": [
      "2023-06-17 14:36:49.697594: I tensorflow/core/platform/cpu_feature_guard.cc:193] This TensorFlow binary is optimized with oneAPI Deep Neural Network Library (oneDNN) to use the following CPU instructions in performance-critical operations:  AVX2 FMA\n",
      "To enable them in other operations, rebuild TensorFlow with the appropriate compiler flags.\n",
      "2023-06-17 14:36:50.699076: W tensorflow/compiler/xla/stream_executor/platform/default/dso_loader.cc:64] Could not load dynamic library 'libnvinfer.so.7'; dlerror: libnvinfer.so.7: cannot open shared object file: No such file or directory\n",
      "2023-06-17 14:36:50.699180: W tensorflow/compiler/xla/stream_executor/platform/default/dso_loader.cc:64] Could not load dynamic library 'libnvinfer_plugin.so.7'; dlerror: libnvinfer_plugin.so.7: cannot open shared object file: No such file or directory\n",
      "2023-06-17 14:36:50.699193: W tensorflow/compiler/tf2tensorrt/utils/py_utils.cc:38] TF-TRT Warning: Cannot dlopen some TensorRT libraries. If you would like to use Nvidia GPU with TensorRT, please make sure the missing libraries mentioned above are installed properly.\n"
     ]
    }
   ],
   "source": [
    "import random, json\n",
    "from tqdm import tqdm\n",
    "import numpy as np\n",
    "import pandas as pd\n",
    "import matplotlib.pyplot as plt\n",
    "import librosa\n",
    "import torch\n",
    "from torch import nn\n",
    "\n",
    "import laion_clap\n",
    "import mlflow"
   ]
  },
  {
   "cell_type": "code",
   "execution_count": null,
   "metadata": {},
   "outputs": [],
   "source": [
    "model = laion_clap.CLAP_Module(enable_fusion=False)\n",
    "model.load_ckpt() # download the default pretrained checkpoint."
   ]
  },
  {
   "cell_type": "code",
   "execution_count": 196,
   "metadata": {},
   "outputs": [],
   "source": [
    "# this file is created externally with find -type f\n",
    "filelist = open(\"/home/fm/data/musicgen.txt\", \"r\").readlines()"
   ]
  },
  {
   "cell_type": "code",
   "execution_count": 197,
   "metadata": {},
   "outputs": [],
   "source": [
    "filelist = [_.strip() for _ in filelist]"
   ]
  },
  {
   "cell_type": "markdown",
   "metadata": {},
   "source": [
    "#### compute clap embeddings"
   ]
  },
  {
   "cell_type": "code",
   "execution_count": 199,
   "metadata": {},
   "outputs": [
    {
     "name": "stderr",
     "output_type": "stream",
     "text": [
      "70it [00:04, 15.41it/s]\n"
     ]
    }
   ],
   "source": [
    "fileembeds = []\n",
    "for i, file_i in tqdm(enumerate(filelist)):\n",
    "    audio_path = f\"/home/fm/{file_i}\"\n",
    "    audio_data = librosa.load(audio_path, sr=48000)\n",
    "    # print(f\"audio {audio_data.shape}\")\n",
    "    audio_data = audio_data.reshape(1, -1) # Make it (1,T) or (N,T)\n",
    "    audio_embed = model.get_audio_embedding_from_data(x = audio_data, use_tensor=False)\n",
    "    # print(audio_embed[:,-20:])\n",
    "    # print(audio_embed.shape)\n",
    "    fileembeds.append(audio_embed)"
   ]
  },
  {
   "cell_type": "code",
   "execution_count": 201,
   "metadata": {},
   "outputs": [
    {
     "data": {
      "text/plain": [
       "(70, 1, 512)"
      ]
     },
     "execution_count": 201,
     "metadata": {},
     "output_type": "execute_result"
    }
   ],
   "source": [
    "fileembeds = np.array(fileembeds)\n",
    "fileembeds.shape"
   ]
  },
  {
   "cell_type": "code",
   "execution_count": 202,
   "metadata": {},
   "outputs": [
    {
     "data": {
      "text/plain": [
       "(70, 512)"
      ]
     },
     "execution_count": 202,
     "metadata": {},
     "output_type": "execute_result"
    }
   ],
   "source": [
    "fileembeds = fileembeds.squeeze()\n",
    "fileembeds.shape"
   ]
  },
  {
   "cell_type": "code",
   "execution_count": 203,
   "metadata": {},
   "outputs": [],
   "source": [
    "metric = 'cosine' # jaccard cosine euclidean\n",
    "metric = distance.cosine\n",
    "dists1 = pairwise_distances(fileembeds, fileembeds, metric=metric)"
   ]
  },
  {
   "cell_type": "code",
   "execution_count": 205,
   "metadata": {},
   "outputs": [
    {
     "data": {
      "text/plain": [
       "(70, 70)"
      ]
     },
     "execution_count": 205,
     "metadata": {},
     "output_type": "execute_result"
    }
   ],
   "source": [
    "dists1.shape"
   ]
  },
  {
   "cell_type": "code",
   "execution_count": 207,
   "metadata": {},
   "outputs": [],
   "source": [
    "maxdists = dists1.max(axis=1)"
   ]
  },
  {
   "cell_type": "code",
   "execution_count": 208,
   "metadata": {},
   "outputs": [
    {
     "data": {
      "text/plain": [
       "[<matplotlib.lines.Line2D at 0x7fbd792f7460>]"
      ]
     },
     "execution_count": 208,
     "metadata": {},
     "output_type": "execute_result"
    },
    {
     "data": {
      "image/png": "[encoded data removed]",
      "text/plain": [
       "<Figure size 640x480 with 1 Axes>"
      ]
     },
     "metadata": {},
     "output_type": "display_data"
    }
   ],
   "source": [
    "plt.plot(maxdists)"
   ]
  },
  {
   "cell_type": "code",
   "execution_count": 218,
   "metadata": {},
   "outputs": [
    {
     "data": {
      "text/plain": [
       "<matplotlib.image.AxesImage at 0x7fbd63c44f70>"
      ]
     },
     "execution_count": 218,
     "metadata": {},
     "output_type": "execute_result"
    },
    {
     "data": {
      "image/png": "[encoded data removed]",
      "text/plain": [
       "<Figure size 640x480 with 1 Axes>"
      ]
     },
     "metadata": {},
     "output_type": "display_data"
    }
   ],
   "source": [
    "plt.imshow(dists1, norm=\"log\", cmap=\"RdPu\")"
   ]
  },
  {
   "cell_type": "code",
   "execution_count": 220,
   "metadata": {},
   "outputs": [],
   "source": [
    "def seriation(Z,N,cur_index):\n",
    "    '''\n",
    "        input:\n",
    "            - Z is a hierarchical tree (dendrogram)\n",
    "            - N is the number of points given to the clustering process\n",
    "            - cur_index is the position in the tree for the recursive traversal\n",
    "        output:\n",
    "            - order implied by the hierarchical tree Z\n",
    "            \n",
    "        seriation computes the order implied by a hierarchical tree (dendrogram)\n",
    "    '''\n",
    "    if cur_index < N:\n",
    "        return [cur_index]\n",
    "    else:\n",
    "        left = int(Z[cur_index-N,0])\n",
    "        right = int(Z[cur_index-N,1])\n",
    "        return (seriation(Z,N,left) + seriation(Z,N,right))\n",
    "    \n",
    "def compute_serial_matrix(dist_mat,method=\"ward\"):\n",
    "    '''\n",
    "        input:\n",
    "            - dist_mat is a distance matrix\n",
    "            - method = [\"ward\",\"single\",\"average\",\"complete\"]\n",
    "        output:\n",
    "            - seriated_dist is the input dist_mat,\n",
    "              but with re-ordered rows and columns\n",
    "              according to the seriation, i.e. the\n",
    "              order implied by the hierarchical tree\n",
    "            - res_order is the order implied by\n",
    "              the hierarhical tree\n",
    "            - res_linkage is the hierarhical tree (dendrogram)\n",
    "        \n",
    "        compute_serial_matrix transforms a distance matrix into \n",
    "        a sorted distance matrix according to the order implied \n",
    "        by the hierarchical tree (dendrogram)\n",
    "    '''\n",
    "    N = len(dist_mat)\n",
    "    flat_dist_mat = squareform(dist_mat)\n",
    "    res_linkage = linkage(flat_dist_mat, method=method,preserve_input=True)\n",
    "    res_order = seriation(res_linkage, N, N + N-2)\n",
    "    seriated_dist = np.zeros((N,N))\n",
    "    a,b = np.triu_indices(N,k=1)\n",
    "    seriated_dist[a,b] = dist_mat[ [res_order[i] for i in a], [res_order[j] for j in b]]\n",
    "    seriated_dist[b,a] = seriated_dist[a,b]\n",
    "    \n",
    "    return seriated_dist, res_order, res_linkage"
   ]
  },
  {
   "cell_type": "code",
   "execution_count": 221,
   "metadata": {},
   "outputs": [],
   "source": [
    "N = len(dists1)"
   ]
  },
  {
   "cell_type": "code",
   "execution_count": 225,
   "metadata": {},
   "outputs": [
    {
     "name": "stdout",
     "output_type": "stream",
     "text": [
      "Method:\t complete\n"
     ]
    },
    {
     "data": {
      "image/png": "[encoded data removed]",
      "text/plain": [
       "<Figure size 2000x2000 with 1 Axes>"
      ]
     },
     "metadata": {},
     "output_type": "display_data"
    }
   ],
   "source": [
    "methods = [\"complete\"] #,\"single\",\"average\",\"ward\",\"complete\"]\n",
    "for method in methods:\n",
    "    print(\"Method:\\t\",method)\n",
    "    \n",
    "    ordered_dist_mat, res_order, res_linkage = compute_serial_matrix(dists1, method)\n",
    "    plt.figure(figsize=(20,20))\n",
    "    plt.pcolormesh(ordered_dist_mat, cmap=\"RdPu\")\n",
    "    plt.xlim([0,N])\n",
    "    plt.ylim([0,N])\n",
    "    plt.gca().set_aspect('equal')\n",
    "    plt.axis(\"off\")\n",
    "    plt.show()"
   ]
  },
  {
   "cell_type": "code",
   "execution_count": 226,
   "metadata": {},
   "outputs": [
    {
     "data": {
      "text/plain": [
       "[7,\n",
       " 11,\n",
       " 46,\n",
       " 53,\n",
       " 48,\n",
       " 52,\n",
       " 32,\n",
       " 31,\n",
       " 35,\n",
       " 34,\n",
       " 36,\n",
       " 22,\n",
       " 24,\n",
       " 21,\n",
       " 23,\n",
       " 33,\n",
       " 64,\n",
       " 55,\n",
       " 56,\n",
       " 4,\n",
       " 19,\n",
       " 54,\n",
       " 8,\n",
       " 65,\n",
       " 68,\n",
       " 17,\n",
       " 15,\n",
       " 20,\n",
       " 13,\n",
       " 25,\n",
       " 67,\n",
       " 10,\n",
       " 42,\n",
       " 60,\n",
       " 63,\n",
       " 29,\n",
       " 61,\n",
       " 5,\n",
       " 47,\n",
       " 18,\n",
       " 2,\n",
       " 66,\n",
       " 0,\n",
       " 14,\n",
       " 16,\n",
       " 58,\n",
       " 57,\n",
       " 3,\n",
       " 6,\n",
       " 30,\n",
       " 59,\n",
       " 39,\n",
       " 9,\n",
       " 62,\n",
       " 12,\n",
       " 27,\n",
       " 28,\n",
       " 49,\n",
       " 50,\n",
       " 40,\n",
       " 45,\n",
       " 69,\n",
       " 38,\n",
       " 44,\n",
       " 1,\n",
       " 51,\n",
       " 26,\n",
       " 43,\n",
       " 37,\n",
       " 41]"
      ]
     },
     "execution_count": 226,
     "metadata": {},
     "output_type": "execute_result"
    }
   ],
   "source": [
    "res_order"
   ]
  },
  {
   "cell_type": "code",
   "execution_count": 227,
   "metadata": {},
   "outputs": [],
   "source": [
    "filelist_order = [filelist[_] for _ in res_order]"
   ]
  },
  {
   "cell_type": "code",
   "execution_count": null,
   "metadata": {},
   "outputs": [],
   "source": [
    "for i, fname in enumerate(filelist_order):\n",
    "    basefname = os.path.basename(fname)\n",
    "    src = f\"/home/fm/{fname}\"\n",
    "    dst = f\"/home/fm/data/musicgen/sorted/{i:>03}-{basefname}\"\n",
    "    print(src)\n",
    "    print(dst)\n",
    "    shutil.copy(src, dst)"
   ]
  }
 ],
 "metadata": {
  "kernelspec": {
   "display_name": "Python 3 (ipykernel)",
   "language": "python",
   "name": "python3"
  },
  "language_info": {
   "codemirror_mode": {
    "name": "ipython",
    "version": 3
   },
   "file_extension": ".py",
   "mimetype": "text/x-python",
   "name": "python",
   "nbconvert_exporter": "python",
   "pygments_lexer": "ipython3",
   "version": "3.10.6"
  }
 },
 "nbformat": 4,
 "nbformat_minor": 2
}
